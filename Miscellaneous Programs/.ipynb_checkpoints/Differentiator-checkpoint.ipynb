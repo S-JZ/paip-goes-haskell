{
 "cells": [
  {
   "cell_type": "markdown",
   "id": "63d169ee",
   "metadata": {},
   "source": [
    "## Differentiator"
   ]
  },
  {
   "cell_type": "code",
   "execution_count": null,
   "id": "5bb7822c",
   "metadata": {},
   "outputs": [],
   "source": [
    "-- Given a polynomial, find its derivative and return that.\n",
    "-- (x, coefficient of x, power of x)\n",
    "type X = (Int, Int, Int)"
   ]
  },
  {
   "cell_type": "code",
   "execution_count": null,
   "id": "33f70da9",
   "metadata": {},
   "outputs": [],
   "source": [
    "getSign :: Int -> Int\n",
    "getSign x = if x >= 0 then 1 else - 1\n",
    "\n",
    "stripSign :: Int -> Int\n",
    "stripSign x = if x >= 0 then x else -x"
   ]
  },
  {
   "cell_type": "code",
   "execution_count": null,
   "id": "ae277e23",
   "metadata": {},
   "outputs": [],
   "source": [
    "inParts :: X -> X\n",
    "inParts (_, 0, _) = (1, 0, 0)\n",
    "inParts (_, _, 0) = (1, 0, 0)\n",
    "inParts (sign, coeff, power) = (getSign (sign * coeff * power), stripSign (coeff * power), power - 1)\n",
    "\n",
    "differentiate :: [X] -> [X]\n",
    "differentiate = map inParts"
   ]
  },
  {
   "cell_type": "code",
   "execution_count": null,
   "id": "88aab8b0",
   "metadata": {},
   "outputs": [],
   "source": [
    "-- f(X) = 5X^2 + 3X + 16 \n",
    "polynomial = [(1, 5, 2), (1, 3, 1), (1, 16, 0)]"
   ]
  },
  {
   "cell_type": "code",
   "execution_count": null,
   "id": "64727306",
   "metadata": {},
   "outputs": [],
   "source": [
    "differentiate polynomial"
   ]
  },
  {
   "cell_type": "code",
   "execution_count": null,
   "id": "af25362d",
   "metadata": {},
   "outputs": [],
   "source": [
    "prettySign :: Int -> String\n",
    "prettySign x = if x == 1 then \" + \" else \" - \""
   ]
  },
  {
   "cell_type": "code",
   "execution_count": null,
   "id": "176880ce",
   "metadata": {},
   "outputs": [],
   "source": [
    "prettyTerm :: X -> String\n",
    "prettyTerm (_, 0, _) = \"\"\n",
    "prettyTerm (sign, coeff, 0) = prettySign sign ++ show coeff\n",
    "prettyTerm (sign, coeff, 1) = prettySign sign ++ show coeff ++ \"X\"\n",
    "prettyTerm (sign, coeff, power) = prettySign sign ++ show coeff ++ \"X^\" ++ show power"
   ]
  },
  {
   "cell_type": "code",
   "execution_count": null,
   "id": "05eea1a7",
   "metadata": {},
   "outputs": [],
   "source": [
    "prettyPoly :: [X] -> String\n",
    "prettyPoly xs = unwords $ map prettyTerm xs"
   ]
  },
  {
   "cell_type": "code",
   "execution_count": null,
   "id": "20c858ca",
   "metadata": {},
   "outputs": [],
   "source": [
    "prettyPoly $ differentiate polynomial"
   ]
  }
 ],
 "metadata": {
  "kernelspec": {
   "display_name": "Haskell",
   "language": "haskell",
   "name": "haskell"
  },
  "language_info": {
   "codemirror_mode": "ihaskell",
   "file_extension": ".hs",
   "mimetype": "text/x-haskell",
   "name": "haskell",
   "pygments_lexer": "Haskell",
   "version": "8.10.4"
  }
 },
 "nbformat": 4,
 "nbformat_minor": 5
}
