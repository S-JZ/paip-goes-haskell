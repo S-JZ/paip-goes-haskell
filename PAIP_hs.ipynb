{
 "cells": [
  {
   "cell_type": "markdown",
   "id": "91ed418f",
   "metadata": {},
   "source": [
    "## ELIZA"
   ]
  },
  {
   "cell_type": "markdown",
   "id": "b348363b",
   "metadata": {},
   "source": [
    "(defparameter *eliza-rules *    \\\n",
    "'((((? * ?x) hello (? * ?y))   \\\n",
    "(How do you do. Please state your problem.)) \\\n",
    "(((? * ?x) computer (? * ?y))                \\\n",
    "(Do computers worry you?) (What do you think about machines?) \\\n",
    "(Why do you mention computers?) \\\n",
    "(What do you think machines have to do with your problem?)) \\\n",
    "(((? * ?x) name (? * ?y)) \\\n",
    "(I am not interested in names)) \\\n",
    "(((? * ?x) sorry (? * ?y)) \\\n",
    "(Please don't apologize)  \\\n",
    "(Apologies are not necessary) \\\n",
    "(What feelings do you have when you apologize)) \\\n",
    "(((? * ?x) I remember (? * ?y)) \\\n",
    "(Do you often think of ?y ) \\\n",
    "(Does thinking of ?y bring anything else to mind?) \\\n",
    "(What else do you remember) (Why do you recall ?y right now?) \\\n",
    "(What in the present situation reminds you of ?y ) \\\n",
    "(What i s the connection between me and ?y)) \\\n",
    "(((? * ?x) do you remember (? * ?y)) \\\n",
    "(Did you think I would forget ?y ? ) \\\n",
    "(Why do you think I should recall ?y now) \\\n",
    "(What about ?y ) (You mentioned ?y)) \\\n",
    "(((? * ?x) i f (? * ?y)) \\\n",
    "(Do you really think it s likel y that ?y ) (Do you wish that ?y ) \\\n",
    "(What do you think about ?y ) (Really-- i f ?y)) \\\n",
    "(((? * ?x) I dreamt (? * ?y)) \\\n",
    "(Really-- ?y ) (Have you ever fantasized ?y while you were awake?) \\\n",
    "(Have you dreamt ?y before?)) \\\n",
    "(((? * ?x) dream about (? * ?y)) \n",
    "(How do you feel about ?y in reality?)) \\\n",
    "(((? * ?x) dream (? * ?y)) \\\n",
    "(What does thi s dream suggest to you?) (Do you dream often?) \\\n",
    "(What persons appear in your dreams?) \\\n",
    "(Don't you believe that dream has to do with your problem?)) \\\n",
    "(((? * ?x) my mother (? * ?y)) \\\n",
    "Who else in your family ?y ) (Tell me more about your family)) \\\n",
    "(((? * ?x) my father (? * ?y)) \\\n",
    "(Your father) (Does he influence you strongly?) \\\n",
    "(What else comes to mind when you think of your father?)) \\\n",
    "(((? * ?x) I want (? * ?y)) \\\n",
    "(What would it mean if you got ?y) \\\n",
    "(Why do you want ?y) (Suppose you got ?y soon)) \\\n",
    "(((? * ?x) I am glad (? * ?y)) \\\n",
    "(How have I helped you to be ?y ) (What makes you happy just now) \\\n",
    "(Can you explain why you are suddenly ?y)) \\\n",
    "(((? * ?x) I am sad (? * ?y)) \\\n",
    "(I am sorry to hear you are depressed) \\\n",
    "(I'm sure it' s not pleasant to be sad)) \\\n",
    "(((? * ?x) are like (? * ?y)) \\\n",
    "(What resemblance do you see between ?x and ?y)) \\\n",
    "(((? * ?x) i s like (? * ?y)) \\\n",
    "(In what way i s it that ?x i s like ?y ) \\\n",
    "(What resemblance do you see?) \\\n",
    "(Could there really be some connection?) (How?)) \\\n",
    "(((? * ?x) alike (? * ?y)) \\\n",
    "(In what way?) (What similarities are there?)) \\\n",
    "(((? * ?x) same (? * ?y)) \\\n",
    "(What other connections do you see?)) \\\n",
    "(((? * ?x) I was (? * ?y)) \\\n",
    "(Were you really?) (Perhaps I already knew you were ?y) \\\n",
    "(Why do you tell me you were ?y now?)) \\\n",
    "(((? * ?x) was I (? * ?y)) \\\n",
    "(What if you were ?y ? ) (Do you think you were ?y) \\\n",
    "(What would it mean if you were ?y)) \\\n",
    "(((? * ?x) I am (? * ?y)) \\\n",
    "(In what way are you ?y) (Do you want to be ?y ?)) \\\n",
    "(((? * ?x) am I (? * ?y)) \\\n",
    "(Do you believe you are ?y ) (Would you want to be ?y) \\\n",
    "(You wish I would tell you you are ?y) \\\n",
    "(What would it mean if you were ?y)) \\\n",
    "(((? * ?x) am (? * ?y)) \\\n",
    "(Why do you say \"AM?\") (I don't understand that)) \\\n",
    "(((? * ?x) are you (? * ?y)) \\\n",
    "(Why are you interested in whether I am ?y or not?) \\\n",
    "(Would you prefer i f I weren't ?y) \\\n",
    "(Perhaps I am ?y in your fantasies)) \\\n",
    "(((? * ?x) you are (? * ?y)) \\\n",
    "(What makes you think I am ?y ?) ) \\\n",
    "(((? * ?x) because (? * ?y)) \\\n",
    "( I s that the real reason?) (What other reasons might there be?) \\\n",
    "(Does that reason seem to explain anything else?)) \\\n",
    "(((? * ?x) were you (? * ?y)) \\\n",
    "(Perhaps I was ?y ) (What do you think?) (What if I had been ?y)) \\\n",
    "(((? * ?x) I can't (? * ?y)) \\\n",
    "(Maybe you could ?y now) (What i f you could ?y ?) ) \\\n",
    "(((? * ?x) I feel (? * ?y)) \\\n",
    "(Do you often feel ?y ?)) \\\n",
    "(((? * ?x) I felt (? * ?y)) \\\n",
    "(What other feelings do you have?)) \\\n",
    "(((? * ?x) I (? * ?y ) you (? * ?z)) \\\n",
    "(Perhaps in your fantasy we ?y each other)) \\\n",
    "(((? * ?x) why don't you (? * ?y)) \\\n",
    "(Should you ?y yourself?) \\\n",
    "(Do you believe I don't ?y) (Perhaps I will ?y in good time)) \\\n",
    "(((? * ?x) yes (? * ?y)) \\\n",
    "(You seem quite positive) (You are sure) (I understand)) \\\n",
    "(((? * ?x) no (? * ?y)) \\\n",
    "(Why not?) (You are being a bit negative) \\\n",
    "(Are you saying \"NO\" just to be negative?)) \\\n",
    "(((? * ?x) someone (? * ?y)) \\\n",
    "(Can you be more specific?)) \\\n",
    "(((? * ?x) everyone (? * ?y)) \\\n",
    "(surely not everyone) (Can you think of anyone in particular?) \\\n",
    "(Who for example?) (You are thinking of a special person)) \\\n",
    "(((? * ?x) always (? * ?y)) \\\n",
    "(Can you think of a specific example) (When?) \\\n",
    "(What incident are you thinking of?) (Really-- always)) \\\n",
    "(((? * ?x) what (? * ?y)) \\\n",
    "(Why do you ask?) (Does that question interest you?) \\\n",
    "(What i s it you really want to know?) (What do you think?) \\\n",
    "(What comes to your mind when you ask that?)) \\\n",
    "(((? * ?x) perhaps (? * ?y)) \\\n",
    "(You do not seem quite certain)) \\\n",
    "(((? * ?x) are (? * ?y)) \\\n",
    "(Did you think they might not be ?y ) \\\n",
    "(Possibly they are ?y)) \\\n",
    "(((? * ?x)) \\\n",
    "(Very interesting) (I am not sure I understand you fully ) \\\n",
    "(What does that suggest to you?) (Please continue) (Go on) \\\n",
    "(Do you feel strongly about discussing such things?)))) \n",
    "\n",
    "\n",
    "#### Let's try these first!"
   ]
  },
  {
   "cell_type": "code",
   "execution_count": 1,
   "id": "8f25a7dd",
   "metadata": {},
   "outputs": [],
   "source": [
    "import Data.List\n",
    "import Data.Char"
   ]
  },
  {
   "cell_type": "code",
   "execution_count": 2,
   "id": "f452ff63",
   "metadata": {},
   "outputs": [],
   "source": [
    "getAfter :: String -> String -> String\n",
    "getAfter key = unwords . tail . dropWhile ( /= key) . words"
   ]
  },
  {
   "cell_type": "code",
   "execution_count": 3,
   "id": "b8ad4e52",
   "metadata": {},
   "outputs": [
    {
     "data": {
      "text/plain": [
       "\"what happened\""
      ]
     },
     "metadata": {},
     "output_type": "display_data"
    }
   ],
   "source": [
    "getAfter \"remember\" \"Hi I think I remember what happened\""
   ]
  },
  {
   "cell_type": "code",
   "execution_count": 31,
   "id": "7394bf41",
   "metadata": {
    "scrolled": false
   },
   "outputs": [],
   "source": [
    "removePunc :: String -> String\n",
    "-- removePunc xs = [x | x <- xs,  notElem x \",.?!-:;\\\"\\'\"]\n",
    "removePunc = filter (`notElem` \",.?!-:;\\\"\\'\")"
   ]
  },
  {
   "cell_type": "code",
   "execution_count": 62,
   "id": "6a59f4cb",
   "metadata": {},
   "outputs": [],
   "source": [
    "greetings = [\"hello\", \"hi\", \"eliza\"]"
   ]
  },
  {
   "cell_type": "code",
   "execution_count": 63,
   "id": "738477e1",
   "metadata": {},
   "outputs": [],
   "source": [
    "isGreeting :: String -> Bool\n",
    "-- isGreeting s =  or $ [elem x (words s) | x <- greetings]\n",
    "isGreeting = any (`elem` greetings) . words"
   ]
  },
  {
   "cell_type": "code",
   "execution_count": 64,
   "id": "a3d242b6",
   "metadata": {},
   "outputs": [
    {
     "data": {
      "text/plain": [
       "True"
      ]
     },
     "metadata": {},
     "output_type": "display_data"
    }
   ],
   "source": [
    "isGreeting \"hello there\""
   ]
  },
  {
   "cell_type": "code",
   "execution_count": 65,
   "id": "53026797",
   "metadata": {},
   "outputs": [
    {
     "data": {
      "text/html": [
       "<style>/* Styles used for the Hoogle display in the pager */\n",
       ".hoogle-doc {\n",
       "display: block;\n",
       "padding-bottom: 1.3em;\n",
       "padding-left: 0.4em;\n",
       "}\n",
       ".hoogle-code {\n",
       "display: block;\n",
       "font-family: monospace;\n",
       "white-space: pre;\n",
       "}\n",
       ".hoogle-text {\n",
       "display: block;\n",
       "}\n",
       ".hoogle-name {\n",
       "color: green;\n",
       "font-weight: bold;\n",
       "}\n",
       ".hoogle-head {\n",
       "font-weight: bold;\n",
       "}\n",
       ".hoogle-sub {\n",
       "display: block;\n",
       "margin-left: 0.4em;\n",
       "}\n",
       ".hoogle-package {\n",
       "font-weight: bold;\n",
       "font-style: italic;\n",
       "}\n",
       ".hoogle-module {\n",
       "font-weight: bold;\n",
       "}\n",
       ".hoogle-class {\n",
       "font-weight: bold;\n",
       "}\n",
       ".get-type {\n",
       "color: green;\n",
       "font-weight: bold;\n",
       "font-family: monospace;\n",
       "display: block;\n",
       "white-space: pre-wrap;\n",
       "}\n",
       ".show-type {\n",
       "color: green;\n",
       "font-weight: bold;\n",
       "font-family: monospace;\n",
       "margin-left: 1em;\n",
       "}\n",
       ".mono {\n",
       "font-family: monospace;\n",
       "display: block;\n",
       "}\n",
       ".err-msg {\n",
       "color: red;\n",
       "font-style: italic;\n",
       "font-family: monospace;\n",
       "white-space: pre;\n",
       "display: block;\n",
       "}\n",
       "#unshowable {\n",
       "color: red;\n",
       "font-weight: bold;\n",
       "}\n",
       ".err-msg.in.collapse {\n",
       "padding-top: 0.7em;\n",
       "}\n",
       ".highlight-code {\n",
       "white-space: pre;\n",
       "font-family: monospace;\n",
       "}\n",
       ".suggestion-warning { \n",
       "font-weight: bold;\n",
       "color: rgb(200, 130, 0);\n",
       "}\n",
       ".suggestion-error { \n",
       "font-weight: bold;\n",
       "color: red;\n",
       "}\n",
       ".suggestion-name {\n",
       "font-weight: bold;\n",
       "}\n",
       "</style><div class=\"suggestion-name\" style=\"clear:both;\">Use infix</div><div class=\"suggestion-row\" style=\"float: left;\"><div class=\"suggestion-warning\">Found:</div><div class=\"highlight-code\" id=\"haskell\">isInfixOf \"computer\" sentence</div></div><div class=\"suggestion-row\" style=\"float: left;\"><div class=\"suggestion-warning\">Why Not:</div><div class=\"highlight-code\" id=\"haskell\">\"computer\" `isInfixOf` sentence</div></div><div class=\"suggestion-name\" style=\"clear:both;\">Use infix</div><div class=\"suggestion-row\" style=\"float: left;\"><div class=\"suggestion-warning\">Found:</div><div class=\"highlight-code\" id=\"haskell\">isInfixOf \"name\" sentence</div></div><div class=\"suggestion-row\" style=\"float: left;\"><div class=\"suggestion-warning\">Why Not:</div><div class=\"highlight-code\" id=\"haskell\">\"name\" `isInfixOf` sentence</div></div><div class=\"suggestion-name\" style=\"clear:both;\">Use infix</div><div class=\"suggestion-row\" style=\"float: left;\"><div class=\"suggestion-warning\">Found:</div><div class=\"highlight-code\" id=\"haskell\">isInfixOf \"sorry\" sentence</div></div><div class=\"suggestion-row\" style=\"float: left;\"><div class=\"suggestion-warning\">Why Not:</div><div class=\"highlight-code\" id=\"haskell\">\"sorry\" `isInfixOf` sentence</div></div><div class=\"suggestion-name\" style=\"clear:both;\">Use infix</div><div class=\"suggestion-row\" style=\"float: left;\"><div class=\"suggestion-warning\">Found:</div><div class=\"highlight-code\" id=\"haskell\">isInfixOf \"i remember\" sentence</div></div><div class=\"suggestion-row\" style=\"float: left;\"><div class=\"suggestion-warning\">Why Not:</div><div class=\"highlight-code\" id=\"haskell\">\"i remember\" `isInfixOf` sentence</div></div><div class=\"suggestion-name\" style=\"clear:both;\">Use infix</div><div class=\"suggestion-row\" style=\"float: left;\"><div class=\"suggestion-warning\">Found:</div><div class=\"highlight-code\" id=\"haskell\">isInfixOf \"do you remember\" sentence</div></div><div class=\"suggestion-row\" style=\"float: left;\"><div class=\"suggestion-warning\">Why Not:</div><div class=\"highlight-code\" id=\"haskell\">\"do you remember\" `isInfixOf` sentence</div></div><div class=\"suggestion-name\" style=\"clear:both;\">Use infix</div><div class=\"suggestion-row\" style=\"float: left;\"><div class=\"suggestion-warning\">Found:</div><div class=\"highlight-code\" id=\"haskell\">isInfixOf \"if\" sentence</div></div><div class=\"suggestion-row\" style=\"float: left;\"><div class=\"suggestion-warning\">Why Not:</div><div class=\"highlight-code\" id=\"haskell\">\"if\" `isInfixOf` sentence</div></div><div class=\"suggestion-name\" style=\"clear:both;\">Use infix</div><div class=\"suggestion-row\" style=\"float: left;\"><div class=\"suggestion-warning\">Found:</div><div class=\"highlight-code\" id=\"haskell\">isInfixOf \"i dreamt\" sentence</div></div><div class=\"suggestion-row\" style=\"float: left;\"><div class=\"suggestion-warning\">Why Not:</div><div class=\"highlight-code\" id=\"haskell\">\"i dreamt\" `isInfixOf` sentence</div></div><div class=\"suggestion-name\" style=\"clear:both;\">Use infix</div><div class=\"suggestion-row\" style=\"float: left;\"><div class=\"suggestion-warning\">Found:</div><div class=\"highlight-code\" id=\"haskell\">isInfixOf \"yes\" sentence</div></div><div class=\"suggestion-row\" style=\"float: left;\"><div class=\"suggestion-warning\">Why Not:</div><div class=\"highlight-code\" id=\"haskell\">\"yes\" `isInfixOf` sentence</div></div><div class=\"suggestion-name\" style=\"clear:both;\">Use infix</div><div class=\"suggestion-row\" style=\"float: left;\"><div class=\"suggestion-warning\">Found:</div><div class=\"highlight-code\" id=\"haskell\">isInfixOf \"no\" sentence</div></div><div class=\"suggestion-row\" style=\"float: left;\"><div class=\"suggestion-warning\">Why Not:</div><div class=\"highlight-code\" id=\"haskell\">\"no\" `isInfixOf` sentence</div></div>"
      ],
      "text/plain": [
       "Line 3: Use infix\n",
       "Found:\n",
       "isInfixOf \"computer\" sentence\n",
       "Why not:\n",
       "\"computer\" `isInfixOf` sentenceLine 4: Use infix\n",
       "Found:\n",
       "isInfixOf \"name\" sentence\n",
       "Why not:\n",
       "\"name\" `isInfixOf` sentenceLine 5: Use infix\n",
       "Found:\n",
       "isInfixOf \"sorry\" sentence\n",
       "Why not:\n",
       "\"sorry\" `isInfixOf` sentenceLine 6: Use infix\n",
       "Found:\n",
       "isInfixOf \"i remember\" sentence\n",
       "Why not:\n",
       "\"i remember\" `isInfixOf` sentenceLine 7: Use infix\n",
       "Found:\n",
       "isInfixOf \"do you remember\" sentence\n",
       "Why not:\n",
       "\"do you remember\" `isInfixOf` sentenceLine 8: Use infix\n",
       "Found:\n",
       "isInfixOf \"if\" sentence\n",
       "Why not:\n",
       "\"if\" `isInfixOf` sentenceLine 9: Use infix\n",
       "Found:\n",
       "isInfixOf \"i dreamt\" sentence\n",
       "Why not:\n",
       "\"i dreamt\" `isInfixOf` sentenceLine 10: Use infix\n",
       "Found:\n",
       "isInfixOf \"yes\" sentence\n",
       "Why not:\n",
       "\"yes\" `isInfixOf` sentenceLine 11: Use infix\n",
       "Found:\n",
       "isInfixOf \"no\" sentence\n",
       "Why not:\n",
       "\"no\" `isInfixOf` sentence"
      ]
     },
     "metadata": {},
     "output_type": "display_data"
    }
   ],
   "source": [
    "elizaRules sentence\n",
    "           | isGreeting sentence                   = [\"How do you do. Please state your problem.\"]\n",
    "           | isInfixOf \"computer\" sentence         = [\"Do computers worry you?\", \"What do you think about machines?\", \"Why do you mention computers?\", \"What do you think machines have to do with your problem?\"]           \n",
    "           | isInfixOf \"name\" sentence             = [\"I am not interested in names.\"]\n",
    "           | isInfixOf \"sorry\" sentence            = [\"Please don't apologize\", \"Apologies are not necessary\", \"What feelings do you have when you apologize?\"]           \n",
    "           | isInfixOf \"i remember\" sentence       = [\"Do you often think of \" ++ y, \"Does thinking of \" ++ y ++ \" bring anything else to mind?\", \"What else do you remember\", \"Why do you recall \" ++ y ++\" right now?\", \"What in the present situation reminds you of \" ++ y, \"What is the connection between me and \" ++ y] \n",
    "           | isInfixOf \"do you remember\" sentence  = [\"Did you think I would forget \" ++ y ++ \"?\", \"Why do you think I should recall \" ++ y ++\" now?\", \"What about \" ++ y, \"You mentioned \" ++ y]\n",
    "           | isInfixOf \"if\" sentence               = [\"Do you really think it is likely that \" ++ y1, \"Do you wish that \" ++ y1, \"What do you think about\" ++ y1, \"Really if \" ++ y1]\n",
    "           | isInfixOf \"i dreamt\" sentence         = [\"Really-- \" ++ y2, \"Have you ever fantasized\" ++ y2 ++ \"while you were awake?\", \"Have you dreamt \" ++ y2 ++ \"before?\"]\n",
    "           | isInfixOf \"yes\" sentence              = [\"You seem quite positive\", \"You are sure\", \"I understand\"]\n",
    "           | isInfixOf \"no\" sentence               = [\"Why not?\", \"You are being a bit negative\", \"Are you saying 'NO' just to be negative?\"]\n",
    "           | otherwise                             = [\"I am sorry I am still a work in progress.\"]\n",
    "                      where y  = getAfter \"remember\" sentence\n",
    "                            y1 = getAfter \"if\" sentence\n",
    "                            y2 = getAfter \"dreamt\" sentence"
   ]
  },
  {
   "cell_type": "code",
   "execution_count": 108,
   "id": "6afa7fea",
   "metadata": {
    "scrolled": true
   },
   "outputs": [
    {
     "data": {
      "text/html": [
       "<style>/* Styles used for the Hoogle display in the pager */\n",
       ".hoogle-doc {\n",
       "display: block;\n",
       "padding-bottom: 1.3em;\n",
       "padding-left: 0.4em;\n",
       "}\n",
       ".hoogle-code {\n",
       "display: block;\n",
       "font-family: monospace;\n",
       "white-space: pre;\n",
       "}\n",
       ".hoogle-text {\n",
       "display: block;\n",
       "}\n",
       ".hoogle-name {\n",
       "color: green;\n",
       "font-weight: bold;\n",
       "}\n",
       ".hoogle-head {\n",
       "font-weight: bold;\n",
       "}\n",
       ".hoogle-sub {\n",
       "display: block;\n",
       "margin-left: 0.4em;\n",
       "}\n",
       ".hoogle-package {\n",
       "font-weight: bold;\n",
       "font-style: italic;\n",
       "}\n",
       ".hoogle-module {\n",
       "font-weight: bold;\n",
       "}\n",
       ".hoogle-class {\n",
       "font-weight: bold;\n",
       "}\n",
       ".get-type {\n",
       "color: green;\n",
       "font-weight: bold;\n",
       "font-family: monospace;\n",
       "display: block;\n",
       "white-space: pre-wrap;\n",
       "}\n",
       ".show-type {\n",
       "color: green;\n",
       "font-weight: bold;\n",
       "font-family: monospace;\n",
       "margin-left: 1em;\n",
       "}\n",
       ".mono {\n",
       "font-family: monospace;\n",
       "display: block;\n",
       "}\n",
       ".err-msg {\n",
       "color: red;\n",
       "font-style: italic;\n",
       "font-family: monospace;\n",
       "white-space: pre;\n",
       "display: block;\n",
       "}\n",
       "#unshowable {\n",
       "color: red;\n",
       "font-weight: bold;\n",
       "}\n",
       ".err-msg.in.collapse {\n",
       "padding-top: 0.7em;\n",
       "}\n",
       ".highlight-code {\n",
       "white-space: pre;\n",
       "font-family: monospace;\n",
       "}\n",
       ".suggestion-warning { \n",
       "font-weight: bold;\n",
       "color: rgb(200, 130, 0);\n",
       "}\n",
       ".suggestion-error { \n",
       "font-weight: bold;\n",
       "color: red;\n",
       "}\n",
       ".suggestion-name {\n",
       "font-weight: bold;\n",
       "}\n",
       "</style><span class='get-type'>getIndex :: forall a. [a] -> IO Int</span>"
      ],
      "text/plain": [
       "getIndex :: forall a. [a] -> IO Int"
      ]
     },
     "metadata": {},
     "output_type": "display_data"
    },
    {
     "ename": "",
     "evalue": "",
     "output_type": "error",
     "traceback": [
      "<interactive>:1:38: error:\n    • Couldn't match expected type ‘Int’ with actual type ‘IO Int’\n    • In the second argument of ‘(!!)’, namely ‘i’\n      In the expression: responses !! i\n      In an equation for ‘getResponse’: getResponse responses = responses !! i"
     ]
    }
   ],
   "source": [
    "---- ISSUE!!!!!!!!!!!!!!!!!!!!!!!!!!!!!!\n",
    "\n",
    "import System.Random\n",
    "-- getIndex :: forall (m :: * -> *) (t :: * -> *) a. (MonadIO m, Foldable t) => t a -> m Int\n",
    "getIndex :: [a] -> IO Int\n",
    "getIndex l = getStdRandom $ randomR (0, length l - 1)\n",
    "i = getIndex [\"hi\", \"hello\", \"hiii\"]\n",
    ":t getIndex\n",
    "getResponse responses = responses !! i"
   ]
  },
  {
   "cell_type": "code",
   "execution_count": 9,
   "id": "ca6fd884",
   "metadata": {
    "scrolled": true
   },
   "outputs": [
    {
     "data": {
      "text/plain": [
       "[\"Did you think I would forget ww1?\",\"Why do you think I should recall ww1 now?\",\"What about ww1\",\"You mentioned ww1\"]"
      ]
     },
     "metadata": {},
     "output_type": "display_data"
    }
   ],
   "source": [
    "elizaRules $ removePunc \"do you remember ww1?\""
   ]
  },
  {
   "cell_type": "code",
   "execution_count": 10,
   "id": "0e81513c",
   "metadata": {},
   "outputs": [],
   "source": [
    "preprocess = map toLower . removePunc"
   ]
  },
  {
   "cell_type": "code",
   "execution_count": 11,
   "id": "479f9d83",
   "metadata": {},
   "outputs": [
    {
     "data": {
      "text/plain": [
       "\"do you remember ww1\""
      ]
     },
     "metadata": {},
     "output_type": "display_data"
    }
   ],
   "source": [
    "preprocess \"Do you remember WW1?\""
   ]
  },
  {
   "cell_type": "code",
   "execution_count": 12,
   "id": "bc9f338b",
   "metadata": {},
   "outputs": [
    {
     "data": {
      "text/html": [
       "<style>/* Styles used for the Hoogle display in the pager */\n",
       ".hoogle-doc {\n",
       "display: block;\n",
       "padding-bottom: 1.3em;\n",
       "padding-left: 0.4em;\n",
       "}\n",
       ".hoogle-code {\n",
       "display: block;\n",
       "font-family: monospace;\n",
       "white-space: pre;\n",
       "}\n",
       ".hoogle-text {\n",
       "display: block;\n",
       "}\n",
       ".hoogle-name {\n",
       "color: green;\n",
       "font-weight: bold;\n",
       "}\n",
       ".hoogle-head {\n",
       "font-weight: bold;\n",
       "}\n",
       ".hoogle-sub {\n",
       "display: block;\n",
       "margin-left: 0.4em;\n",
       "}\n",
       ".hoogle-package {\n",
       "font-weight: bold;\n",
       "font-style: italic;\n",
       "}\n",
       ".hoogle-module {\n",
       "font-weight: bold;\n",
       "}\n",
       ".hoogle-class {\n",
       "font-weight: bold;\n",
       "}\n",
       ".get-type {\n",
       "color: green;\n",
       "font-weight: bold;\n",
       "font-family: monospace;\n",
       "display: block;\n",
       "white-space: pre-wrap;\n",
       "}\n",
       ".show-type {\n",
       "color: green;\n",
       "font-weight: bold;\n",
       "font-family: monospace;\n",
       "margin-left: 1em;\n",
       "}\n",
       ".mono {\n",
       "font-family: monospace;\n",
       "display: block;\n",
       "}\n",
       ".err-msg {\n",
       "color: red;\n",
       "font-style: italic;\n",
       "font-family: monospace;\n",
       "white-space: pre;\n",
       "display: block;\n",
       "}\n",
       "#unshowable {\n",
       "color: red;\n",
       "font-weight: bold;\n",
       "}\n",
       ".err-msg.in.collapse {\n",
       "padding-top: 0.7em;\n",
       "}\n",
       ".highlight-code {\n",
       "white-space: pre;\n",
       "font-family: monospace;\n",
       "}\n",
       ".suggestion-warning { \n",
       "font-weight: bold;\n",
       "color: rgb(200, 130, 0);\n",
       "}\n",
       ".suggestion-error { \n",
       "font-weight: bold;\n",
       "color: red;\n",
       "}\n",
       ".suggestion-name {\n",
       "font-weight: bold;\n",
       "}\n",
       "</style><div class=\"suggestion-name\" style=\"clear:both;\">Redundant bracket</div><div class=\"suggestion-row\" style=\"float: left;\"><div class=\"suggestion-warning\">Found:</div><div class=\"highlight-code\" id=\"haskell\">\"ELIZA: \" ++ (head (elizaRules $ preprocess query))</div></div><div class=\"suggestion-row\" style=\"float: left;\"><div class=\"suggestion-warning\">Why Not:</div><div class=\"highlight-code\" id=\"haskell\">\"ELIZA: \" ++ head (elizaRules $ preprocess query)</div></div>"
      ],
      "text/plain": [
       "Line 7: Redundant bracket\n",
       "Found:\n",
       "\"ELIZA: \" ++ (head (elizaRules $ preprocess query))\n",
       "Why not:\n",
       "\"ELIZA: \" ++ head (elizaRules $ preprocess query)"
      ]
     },
     "metadata": {},
     "output_type": "display_data"
    },
    {
     "data": {
      "text/plain": [
       "YOU: Hello Eliza!\n",
       "ELIZA: How do you do. Please state your problem.\n",
       "YOU: Do you think a computer can rule the world?\n",
       "ELIZA: Do computers worry you?\n",
       "YOU: No\n",
       "ELIZA: Why not?\n",
       "YOU: Do you remember what helped solve most of the world problems?\n",
       "ELIZA: Did you think I would forget what helped solve most of the world problems?\n",
       "YOU: Yes\n",
       "ELIZA: You seem quite positive\n",
       "YOU: I dreamt the world would transform completely.\n",
       "ELIZA: Really-- the world would transform completely\n",
       "YOU: I remember computers playing a major role in it\n",
       "ELIZA: Do computers worry you?\n",
       "YOU: No\n",
       "ELIZA: Why not?\n",
       "YOU: If there was a computer invasion, we will be safe.\n",
       "ELIZA: Do computers worry you?\n",
       "YOU: No\n",
       "ELIZA: Why not?\n",
       "YOU: If it comes to that, we will be safe.\n",
       "ELIZA: Do you really think it is likely that it comes to that we will be safe\n",
       "YOU: Yes\n",
       "ELIZA: You seem quite positive\n",
       "YOU: You are good\n",
       "ELIZA: I am sorry I am still a work in progress.\n",
       "YOU:"
      ]
     },
     "metadata": {},
     "output_type": "display_data"
    }
   ],
   "source": [
    "main = do\n",
    "      query <- getLine\n",
    "      putStrLn $ \"YOU: \" ++ query\n",
    "      if null query \n",
    "         then return ()\n",
    "      else do\n",
    "         putStrLn $ \"ELIZA: \" ++ (head (elizaRules $ preprocess query))\n",
    "         main\n",
    "main\n",
    "-- introduce classify"
   ]
  },
  {
   "cell_type": "code",
   "execution_count": 102,
   "id": "bd9c33c6",
   "metadata": {},
   "outputs": [],
   "source": [
    "getTrues xs = zip [0..] $ notElem <$> xs <*> [\",.?!-:;\\\"\\'\"]"
   ]
  },
  {
   "cell_type": "code",
   "execution_count": 117,
   "id": "3388a8ce",
   "metadata": {},
   "outputs": [
    {
     "data": {
      "text/plain": [
       "[(0,True),(1,True),(2,True),(3,True),(4,True),(5,True),(6,True),(7,False),(8,True),(9,True),(10,True),(11,True),(12,True),(13,True),(14,True),(15,True),(16,True),(17,True),(18,True),(19,True),(20,True),(21,True),(22,True),(23,True),(24,True),(25,True),(26,True),(27,False)]"
      ]
     },
     "metadata": {},
     "output_type": "display_data"
    }
   ],
   "source": [
    "getTrues \"why don't you begin already?\""
   ]
  },
  {
   "cell_type": "code",
   "execution_count": 113,
   "id": "35a4d39a",
   "metadata": {},
   "outputs": [
    {
     "data": {
      "text/plain": [
       "[0,1,2,3,4,5,6,8,9,10,11,12,13,14,15,16,17,18,19,20,21,22,23,24,25,26]"
      ]
     },
     "metadata": {},
     "output_type": "display_data"
    }
   ],
   "source": [
    "map fst $ filter snd $ getTrues \"why don't you begin already?\""
   ]
  },
  {
   "cell_type": "code",
   "execution_count": 116,
   "id": "f7a2d84e",
   "metadata": {},
   "outputs": [
    {
     "data": {
      "text/plain": [
       "\"why dont you begin already\""
      ]
     },
     "metadata": {},
     "output_type": "display_data"
    }
   ],
   "source": [
    "map ((\"why don't you begin already?\" !!) . fst) $ filter snd $ getTrues \"why don't you begin already?\""
   ]
  },
  {
   "cell_type": "code",
   "execution_count": 118,
   "id": "26a604c9",
   "metadata": {},
   "outputs": [],
   "source": [
    "----------------------------------------------------------------------------------------------"
   ]
  },
  {
   "cell_type": "markdown",
   "id": "4918a123",
   "metadata": {},
   "source": [
    "## DIFFERENTIATE"
   ]
  },
  {
   "cell_type": "code",
   "execution_count": 119,
   "id": "482a542c",
   "metadata": {},
   "outputs": [],
   "source": [
    "-- Given a polynomial, find its derivative and return that.\n",
    "-- (x, coefficient of x, power of x)\n",
    "type X = (Int, Int)"
   ]
  },
  {
   "cell_type": "code",
   "execution_count": 122,
   "id": "fe7ff2ab",
   "metadata": {},
   "outputs": [],
   "source": [
    "inParts :: X -> X\n",
    "inParts (0, _) = (0, 0)\n",
    "inParts (_, 0) = (0, 0)\n",
    "inParts (coeff, power) = (coeff * power, power - 1)\n",
    "\n",
    "differentiate :: [X] -> [X]\n",
    "differentiate = map inParts"
   ]
  },
  {
   "cell_type": "code",
   "execution_count": 123,
   "id": "34567e2f",
   "metadata": {},
   "outputs": [],
   "source": [
    "-- f(X) = 5X^2 + 3X + 16 \n",
    "polynomial = [(5, 2), (3, 1), (16, 0)]"
   ]
  },
  {
   "cell_type": "code",
   "execution_count": 124,
   "id": "6a01749c",
   "metadata": {
    "scrolled": true
   },
   "outputs": [
    {
     "data": {
      "text/plain": [
       "[(10,1),(3,0),(0,0)]"
      ]
     },
     "metadata": {},
     "output_type": "display_data"
    }
   ],
   "source": [
    "differentiate polynomial"
   ]
  },
  {
   "cell_type": "code",
   "execution_count": 163,
   "id": "dbe6f80c",
   "metadata": {},
   "outputs": [],
   "source": [
    "prettyTerm :: X -> String\n",
    "prettyTerm (0, _) = \"\"\n",
    "prettyTerm (coeff, 0) = show coeff\n",
    "prettyTerm (coeff, 1) = show coeff ++ \"X\"\n",
    "prettyTerm (coeff, power) = show coeff ++ \"X^\" ++ show power"
   ]
  },
  {
   "cell_type": "code",
   "execution_count": 164,
   "id": "17112a36",
   "metadata": {},
   "outputs": [],
   "source": [
    "prettyPoly :: [X] -> String\n",
    "prettyPoly xs = intercalate \" + \" $ map prettyTerm xs"
   ]
  },
  {
   "cell_type": "code",
   "execution_count": 165,
   "id": "f116be3a",
   "metadata": {},
   "outputs": [
    {
     "data": {
      "text/plain": [
       "\"5X^2 + 3X + 16\""
      ]
     },
     "metadata": {},
     "output_type": "display_data"
    }
   ],
   "source": [
    "prettyPoly polynomial"
   ]
  },
  {
   "cell_type": "code",
   "execution_count": null,
   "id": "44038c36",
   "metadata": {},
   "outputs": [],
   "source": []
  }
 ],
 "metadata": {
  "kernelspec": {
   "display_name": "Haskell",
   "language": "haskell",
   "name": "haskell"
  },
  "language_info": {
   "codemirror_mode": "ihaskell",
   "file_extension": ".hs",
   "mimetype": "text/x-haskell",
   "name": "haskell",
   "pygments_lexer": "Haskell",
   "version": "8.10.4"
  }
 },
 "nbformat": 4,
 "nbformat_minor": 5
}
