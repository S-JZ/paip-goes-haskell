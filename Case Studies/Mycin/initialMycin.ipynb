{
 "cells": [
  {
   "cell_type": "markdown",
   "id": "44b6232f",
   "metadata": {},
   "source": [
    "Certainty factors are numerical values in the range $[-1, 1]$ that Emycin uses to represent boolean values with associated confidence. Negative certainty factors represent False values, with increasing confidence as the number approaches -1.0. Similarly, positive CFs represent True, with increasing confidence approaching 1.0. A CF of 0.0 represents Unknown."
   ]
  },
  {
   "cell_type": "markdown",
   "id": "4dd14d14",
   "metadata": {},
   "source": [
    "We can combine certainty factors in a manner similar to boolean logic using $AND$ and $OR$ operations; however, since CFs are real numbers, we can't use the standard truth tables of boolean logic. These definitions come from Peter Norvig's PAIP."
   ]
  },
  {
   "cell_type": "code",
   "execution_count": 15,
   "id": "ad27d46c",
   "metadata": {},
   "outputs": [],
   "source": [
    "data CF = CF {true :: Float, false :: Float, unknown :: Float, cutoff :: Float} deriving (Show)"
   ]
  },
  {
   "cell_type": "code",
   "execution_count": 16,
   "id": "56e73814",
   "metadata": {},
   "outputs": [],
   "source": [
    "currCf = CF {true = 1.0, false = -1.0, unknown = 0.0, cutoff = 0.2}"
   ]
  },
  {
   "cell_type": "code",
   "execution_count": 3,
   "id": "f8b81a87",
   "metadata": {},
   "outputs": [],
   "source": [
    "cfOr a b \n",
    "        | a > 0 && b > 0 =  a + b - a * b\n",
    "        | a < 0 && b < 0 =  a + b + a * b\n",
    "        | otherwise      =  quot (a + b) (1 - minimum [abs a, abs b] )"
   ]
  },
  {
   "cell_type": "code",
   "execution_count": 4,
   "id": "cd445dcc",
   "metadata": {},
   "outputs": [],
   "source": [
    "cfAnd a b = minimum [a, b]"
   ]
  },
  {
   "cell_type": "code",
   "execution_count": 19,
   "id": "f308257f",
   "metadata": {},
   "outputs": [],
   "source": [
    "isCf x = false currCf <= x && x <= true currCf"
   ]
  },
  {
   "cell_type": "code",
   "execution_count": 20,
   "id": "1b2802c1",
   "metadata": {},
   "outputs": [],
   "source": [
    "cfTrue x = isCf x && x > cutoff currCf"
   ]
  },
  {
   "cell_type": "code",
   "execution_count": 22,
   "id": "e7901338",
   "metadata": {},
   "outputs": [],
   "source": [
    "cfFalse x = isCf x && x < (cutoff currCf - 1)"
   ]
  },
  {
   "cell_type": "markdown",
   "id": "ab818ac1",
   "metadata": {},
   "source": [
    "Since Emycin aims to provide a flexible framework adaptable to varied problem domains, its representation of \"types\" needs to be extensible. An expert should be able to define the types of things about which the system reasons. Emycin calls these types contexts, and specific things in the system are represented with instances of contexts."
   ]
  },
  {
   "cell_type": "code",
   "execution_count": 27,
   "id": "123bc90a",
   "metadata": {},
   "outputs": [],
   "source": [
    "data Context = Context { count :: Int, -- # track Instances with numerical IDs\n",
    "        name :: String,\n",
    "        initialData :: [String], -- params to find out before reasoning\n",
    "        goals :: [String]} deriving (Show) -- params to find out during reasoning}\n",
    "        "
   ]
  },
  {
   "cell_type": "code",
   "execution_count": 28,
   "id": "569aa484",
   "metadata": {},
   "outputs": [],
   "source": [
    "increaseCount :: Context -> Context\n",
    "increaseCount Context {count = c, name = n, initialData = i, goals = g} = Context {count = c + 1, name = n, initialData = i, goals = g}"
   ]
  },
  {
   "cell_type": "code",
   "execution_count": 29,
   "id": "7c35a077",
   "metadata": {},
   "outputs": [],
   "source": [
    "instantiate :: Context -> (String, Int)\n",
    "instantiate c = (name c, count c)"
   ]
  },
  {
   "cell_type": "markdown",
   "id": "e30db9c0",
   "metadata": {},
   "source": [
    "Contexts need attributes so that individual instances can be differentiated and tested by the reasoner. Emycin represents attributes of contexts Parameters, and instances have a value for each of the parameters of its context. These are defined by the expert for each context in the problem domain."
   ]
  },
  {
   "cell_type": "markdown",
   "id": "d483ebd9",
   "metadata": {},
   "source": [
    "- ctx: The Context to which this Parameter is associated.\n",
    "- enum: If specified, indicates that values of this parameter must be members of the given list of values.\n",
    "- cls: If specified, indicates that values of this parameter must be instances of the given type.\n",
    "- ask_first: If True, to determine a value of this parameter, first ask the user before reasoning."
   ]
  },
  {
   "cell_type": "code",
   "execution_count": null,
   "id": "13386056",
   "metadata": {},
   "outputs": [],
   "source": [
    "-- data Parameter = Parameter {name = name, ctx = ctx, enum = enum, ask_first = ask_first, cls = cls}"
   ]
  },
  {
   "cell_type": "code",
   "execution_count": 8,
   "id": "8f4772b0",
   "metadata": {},
   "outputs": [
    {
     "data": {
      "text/html": [
       "<style>/* Styles used for the Hoogle display in the pager */\n",
       ".hoogle-doc {\n",
       "display: block;\n",
       "padding-bottom: 1.3em;\n",
       "padding-left: 0.4em;\n",
       "}\n",
       ".hoogle-code {\n",
       "display: block;\n",
       "font-family: monospace;\n",
       "white-space: pre;\n",
       "}\n",
       ".hoogle-text {\n",
       "display: block;\n",
       "}\n",
       ".hoogle-name {\n",
       "color: green;\n",
       "font-weight: bold;\n",
       "}\n",
       ".hoogle-head {\n",
       "font-weight: bold;\n",
       "}\n",
       ".hoogle-sub {\n",
       "display: block;\n",
       "margin-left: 0.4em;\n",
       "}\n",
       ".hoogle-package {\n",
       "font-weight: bold;\n",
       "font-style: italic;\n",
       "}\n",
       ".hoogle-module {\n",
       "font-weight: bold;\n",
       "}\n",
       ".hoogle-class {\n",
       "font-weight: bold;\n",
       "}\n",
       ".get-type {\n",
       "color: green;\n",
       "font-weight: bold;\n",
       "font-family: monospace;\n",
       "display: block;\n",
       "white-space: pre-wrap;\n",
       "}\n",
       ".show-type {\n",
       "color: green;\n",
       "font-weight: bold;\n",
       "font-family: monospace;\n",
       "margin-left: 1em;\n",
       "}\n",
       ".mono {\n",
       "font-family: monospace;\n",
       "display: block;\n",
       "}\n",
       ".err-msg {\n",
       "color: red;\n",
       "font-style: italic;\n",
       "font-family: monospace;\n",
       "white-space: pre;\n",
       "display: block;\n",
       "}\n",
       "#unshowable {\n",
       "color: red;\n",
       "font-weight: bold;\n",
       "}\n",
       ".err-msg.in.collapse {\n",
       "padding-top: 0.7em;\n",
       "}\n",
       ".highlight-code {\n",
       "white-space: pre;\n",
       "font-family: monospace;\n",
       "}\n",
       ".suggestion-warning { \n",
       "font-weight: bold;\n",
       "color: rgb(200, 130, 0);\n",
       "}\n",
       ".suggestion-error { \n",
       "font-weight: bold;\n",
       "color: red;\n",
       "}\n",
       ".suggestion-name {\n",
       "font-weight: bold;\n",
       "}\n",
       "</style><div class=\"suggestion-name\" style=\"clear:both;\">Redundant return</div><div class=\"suggestion-row\" style=\"float: left;\"><div class=\"suggestion-warning\">Found:</div><div class=\"highlight-code\" id=\"haskell\">do putStrLn\n",
       "     \"Enter facts in the format 'name:value', one per line: \"\n",
       "   facts <- sequence $ replicate numFacts (readFact)\n",
       "   return facts</div></div><div class=\"suggestion-row\" style=\"float: left;\"><div class=\"suggestion-warning\">Why Not:</div><div class=\"highlight-code\" id=\"haskell\">do putStrLn\n",
       "     \"Enter facts in the format 'name:value', one per line: \"\n",
       "   sequence $ replicate numFacts (readFact)</div></div><div class=\"suggestion-name\" style=\"clear:both;\">Use replicateM</div><div class=\"suggestion-row\" style=\"float: left;\"><div class=\"suggestion-warning\">Found:</div><div class=\"highlight-code\" id=\"haskell\">sequence $ replicate numFacts (readFact)</div></div><div class=\"suggestion-row\" style=\"float: left;\"><div class=\"suggestion-warning\">Why Not:</div><div class=\"highlight-code\" id=\"haskell\">Control.Monad.replicateM numFacts readFact</div></div><div class=\"suggestion-name\" style=\"clear:both;\">Redundant bracket</div><div class=\"suggestion-row\" style=\"float: left;\"><div class=\"suggestion-warning\">Found:</div><div class=\"highlight-code\" id=\"haskell\">(readFact)</div></div><div class=\"suggestion-row\" style=\"float: left;\"><div class=\"suggestion-warning\">Why Not:</div><div class=\"highlight-code\" id=\"haskell\">readFact</div></div>"
      ],
      "text/plain": [
       "Line 15: Redundant return\n",
       "Found:\n",
       "do putStrLn\n",
       "     \"Enter facts in the format 'name:value', one per line: \"\n",
       "   facts <- sequence $ replicate numFacts (readFact)\n",
       "   return facts\n",
       "Why not:\n",
       "do putStrLn\n",
       "     \"Enter facts in the format 'name:value', one per line: \"\n",
       "   sequence $ replicate numFacts (readFact)Line 17: Use replicateM\n",
       "Found:\n",
       "sequence $ replicate numFacts (readFact)\n",
       "Why not:\n",
       "Control.Monad.replicateM numFacts readFactLine 17: Redundant bracket\n",
       "Found:\n",
       "(readFact)\n",
       "Why not:\n",
       "readFact"
      ]
     },
     "metadata": {},
     "output_type": "display_data"
    }
   ],
   "source": [
    "\n",
    "data Fact = Fact { name :: String, value :: String } deriving (Show, Eq)\n",
    "data Rule = Rule { number :: Int, conditions :: [Fact], conclusion :: String } deriving (Show)\n",
    "\n",
    "-- data Fact = Fact { name :: String, value :: String } deriving (Show, Eq)\n",
    "\n",
    "type WorkingMemory = [Fact]\n",
    "\n",
    "buildWorkingMemory :: IO WorkingMemory\n",
    "buildWorkingMemory = do\n",
    "  putStrLn \"Enter the number of facts to add to working memory: \"\n",
    "  numFacts <- readLn :: IO Int\n",
    "  if numFacts == 0\n",
    "    then return []\n",
    "    else do\n",
    "      putStrLn \"Enter facts in the format 'name:value', one per line: \"\n",
    "      facts <- sequence $ replicate numFacts (readFact)\n",
    "      return facts\n",
    "\n",
    "readFact :: IO Fact\n",
    "readFact = do\n",
    "  input <- getLine\n",
    "  let (name, value) = break (== ':') input\n",
    "  return (Fact { name = name, value = tail value })\n"
   ]
  },
  {
   "cell_type": "code",
   "execution_count": 13,
   "id": "f0757eef",
   "metadata": {},
   "outputs": [
    {
     "ename": "",
     "evalue": "",
     "output_type": "error",
     "traceback": [
      "<stdin>: hGetLine: end of file"
     ]
    }
   ],
   "source": [
    "buildWorkingMemory"
   ]
  },
  {
   "cell_type": "code",
   "execution_count": 9,
   "id": "ad159d17",
   "metadata": {
    "scrolled": false
   },
   "outputs": [
    {
     "data": {
      "text/html": [
       "<style>/* Styles used for the Hoogle display in the pager */\n",
       ".hoogle-doc {\n",
       "display: block;\n",
       "padding-bottom: 1.3em;\n",
       "padding-left: 0.4em;\n",
       "}\n",
       ".hoogle-code {\n",
       "display: block;\n",
       "font-family: monospace;\n",
       "white-space: pre;\n",
       "}\n",
       ".hoogle-text {\n",
       "display: block;\n",
       "}\n",
       ".hoogle-name {\n",
       "color: green;\n",
       "font-weight: bold;\n",
       "}\n",
       ".hoogle-head {\n",
       "font-weight: bold;\n",
       "}\n",
       ".hoogle-sub {\n",
       "display: block;\n",
       "margin-left: 0.4em;\n",
       "}\n",
       ".hoogle-package {\n",
       "font-weight: bold;\n",
       "font-style: italic;\n",
       "}\n",
       ".hoogle-module {\n",
       "font-weight: bold;\n",
       "}\n",
       ".hoogle-class {\n",
       "font-weight: bold;\n",
       "}\n",
       ".get-type {\n",
       "color: green;\n",
       "font-weight: bold;\n",
       "font-family: monospace;\n",
       "display: block;\n",
       "white-space: pre-wrap;\n",
       "}\n",
       ".show-type {\n",
       "color: green;\n",
       "font-weight: bold;\n",
       "font-family: monospace;\n",
       "margin-left: 1em;\n",
       "}\n",
       ".mono {\n",
       "font-family: monospace;\n",
       "display: block;\n",
       "}\n",
       ".err-msg {\n",
       "color: red;\n",
       "font-style: italic;\n",
       "font-family: monospace;\n",
       "white-space: pre;\n",
       "display: block;\n",
       "}\n",
       "#unshowable {\n",
       "color: red;\n",
       "font-weight: bold;\n",
       "}\n",
       ".err-msg.in.collapse {\n",
       "padding-top: 0.7em;\n",
       "}\n",
       ".highlight-code {\n",
       "white-space: pre;\n",
       "font-family: monospace;\n",
       "}\n",
       ".suggestion-warning { \n",
       "font-weight: bold;\n",
       "color: rgb(200, 130, 0);\n",
       "}\n",
       ".suggestion-error { \n",
       "font-weight: bold;\n",
       "color: red;\n",
       "}\n",
       ".suggestion-name {\n",
       "font-weight: bold;\n",
       "}\n",
       "</style><div class=\"suggestion-name\" style=\"clear:both;\">Use isJust</div><div class=\"suggestion-row\" style=\"float: left;\"><div class=\"suggestion-warning\">Found:</div><div class=\"highlight-code\" id=\"haskell\">applyRule r wm /= Nothing</div></div><div class=\"suggestion-row\" style=\"float: left;\"><div class=\"suggestion-warning\">Why Not:</div><div class=\"highlight-code\" id=\"haskell\">Data.Maybe.isJust (applyRule r wm)</div></div>"
      ],
      "text/plain": [
       "Line 17: Use isJust\n",
       "Found:\n",
       "applyRule r wm /= Nothing\n",
       "Why not:\n",
       "Data.Maybe.isJust (applyRule r wm)"
      ]
     },
     "metadata": {},
     "output_type": "display_data"
    }
   ],
   "source": [
    "-- module Mycin where\n",
    "-- type WorkingMemory = [Fact]\n",
    "\n",
    "checkCondition :: WorkingMemory -> Fact -> Bool\n",
    "checkCondition wm (Fact name value) = any (\\(Fact n v) -> n == name && v == value) wm\n",
    "\n",
    "checkConditions :: WorkingMemory -> [Fact] -> Bool\n",
    "checkConditions wm = all (checkCondition wm)\n",
    "\n",
    "applyRule :: Rule -> WorkingMemory -> Maybe Fact\n",
    "applyRule rule wm =\n",
    "  if checkConditions wm (conditions rule)\n",
    "    then Just $ Fact \"diagnosis\" (conclusion rule)\n",
    "    else Nothing\n",
    "\n",
    "findApplicableRules :: [Rule] -> WorkingMemory -> [Rule]\n",
    "findApplicableRules rules wm = filter (\\r -> applyRule r wm /= Nothing) rules\n",
    "\n",
    "inferenceEngine :: [Rule] -> WorkingMemory -> Maybe Fact\n",
    "inferenceEngine rules wm = case findApplicableRules rules wm of\n",
    "  [] -> Nothing\n",
    "  applicableRules -> applyRule (last applicableRules) wm\n",
    "\n",
    "diagnose :: [Rule] -> [Fact] -> String\n",
    "diagnose rules facts = case inferenceEngine rules facts of\n",
    "  Nothing -> \"No diagnosis could be made\"\n",
    "  Just (Fact _ diagnosis) -> \"The diagnosis is \" ++ diagnosis"
   ]
  },
  {
   "cell_type": "code",
   "execution_count": 11,
   "id": "3ab4372c",
   "metadata": {},
   "outputs": [
    {
     "ename": "",
     "evalue": "",
     "output_type": "error",
     "traceback": [
      "<stdin>: hGetLine: end of file"
     ]
    }
   ],
   "source": [
    "buildWorkingMemory"
   ]
  },
  {
   "cell_type": "code",
   "execution_count": 2,
   "id": "46cdbd47",
   "metadata": {},
   "outputs": [],
   "source": [
    "-- wm :: WorkingMemory\n",
    "-- wm = [ Fact \"patient has fever\" \"yes\", Fact \"patient has rash\" \"no\", Fact \"patient has headache\" \"yes\" ]\n",
    "\n",
    "rules :: [Rule]\n",
    "rules = [ Rule 1 [ Fact \"patient has fever\" \"yes\", Fact \"patient has rash\" \"yes\" ] \"measles\",\n",
    "          Rule 2 [ Fact \"patient has fever\" \"yes\", Fact \"patient has headache\" \"yes\" ] \"influenza\",\n",
    "          Rule 3 [ Fact \"patient has headache\" \"yes\", Fact \"patient is tired\" \"yes\" ] \"flu\",\n",
    "          Rule 4 [ Fact \"patient has sore throat\" \"yes\", Fact \"patient has fever\" \"yes\", Fact \"patient has enlarged lymph nodes\" \"yes\" ] \"mononucleosis\" ]\n",
    "\n",
    "main = do\n",
    "  putStrLn $ diagnose rules wm"
   ]
  },
  {
   "cell_type": "code",
   "execution_count": 3,
   "id": "a97e3662",
   "metadata": {},
   "outputs": [
    {
     "data": {
      "text/plain": [
       "The diagnosis is influenza"
      ]
     },
     "metadata": {},
     "output_type": "display_data"
    }
   ],
   "source": [
    "main"
   ]
  },
  {
   "cell_type": "code",
   "execution_count": null,
   "id": "354f6e16",
   "metadata": {},
   "outputs": [],
   "source": []
  }
 ],
 "metadata": {
  "kernelspec": {
   "display_name": "Haskell",
   "language": "haskell",
   "name": "haskell"
  },
  "language_info": {
   "codemirror_mode": "ihaskell",
   "file_extension": ".hs",
   "mimetype": "text/x-haskell",
   "name": "haskell",
   "pygments_lexer": "Haskell",
   "version": "8.8.4"
  }
 },
 "nbformat": 4,
 "nbformat_minor": 5
}
